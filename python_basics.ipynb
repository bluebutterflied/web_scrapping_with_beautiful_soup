{
 "cells": [
  {
   "cell_type": "code",
   "execution_count": 8,
   "id": "3e23c0db",
   "metadata": {},
   "outputs": [
    {
     "name": "stdout",
     "output_type": "stream",
     "text": [
      "California\n",
      "New York\n",
      "California\n"
     ]
    }
   ],
   "source": [
    "states=[\"California\",\"Texas\",\"Florida\",\"New York\"] \n",
    "\n",
    "# These are the four states in a list\n",
    "\n",
    "# This represents a list and the name of the list is states\n",
    "\n",
    "#The type is string \n",
    "\n",
    "#Index of list\n",
    "\n",
    "#zero based indexing\n",
    "\n",
    "#First element = index 0\n",
    "\n",
    "# then 1 and so on\n",
    "\n",
    "#use sqaure bracket to access index\n",
    "\n",
    "print(states[0])\n",
    "print(states[-1])\n",
    "print(states[-4])"
   ]
  },
  {
   "cell_type": "code",
   "execution_count": 10,
   "id": "5e610e8b",
   "metadata": {},
   "outputs": [
    {
     "name": "stdout",
     "output_type": "stream",
     "text": [
      "California\n",
      "Texas\n",
      "Florida\n",
      "New York\n"
     ]
    }
   ],
   "source": [
    "for state in states:\n",
    "    print(state)"
   ]
  },
  {
   "cell_type": "code",
   "execution_count": 13,
   "id": "ca88f4ae",
   "metadata": {},
   "outputs": [
    {
     "name": "stdout",
     "output_type": "stream",
     "text": [
      "Florida\n"
     ]
    }
   ],
   "source": [
    "for state in states:\n",
    "    if(state==\"Florida\"):\n",
    "        print(state)"
   ]
  },
  {
   "cell_type": "code",
   "execution_count": 15,
   "id": "f0a9e5af",
   "metadata": {},
   "outputs": [
    {
     "name": "stdout",
     "output_type": "stream",
     "text": [
      "California\n",
      "Texas\n",
      "New York\n"
     ]
    }
   ],
   "source": [
    "for state in states:\n",
    "    if(state!=\"Florida\"):\n",
    "        print(state)"
   ]
  },
  {
   "cell_type": "markdown",
   "id": "807aea23",
   "metadata": {},
   "source": [
    "# How to export data in python"
   ]
  },
  {
   "cell_type": "code",
   "execution_count": 16,
   "id": "f7267e04",
   "metadata": {},
   "outputs": [],
   "source": [
    "# Two ways\n",
    "\n",
    "# simplest way is with open\n",
    "\n",
    "with open('test.txt','w') as file: # open is a function that takes the file name and mode 'filename','mode'. There are three modes, read -r, write -w, read write both -wr\n",
    "    \n",
    "    #test.txt is the name of the file that is going to be created\n",
    "    \n",
    "    file.write(\"Data successfully scraped!\")\n",
    "    \n",
    "    #The test.txt file will be opened as file and we will apply all the functions on this file keyword\n",
    "    "
   ]
  },
  {
   "cell_type": "code",
   "execution_count": 17,
   "id": "fbc45d5d",
   "metadata": {},
   "outputs": [],
   "source": [
    "with open('test2.txt','w') as file:\n",
    "    file.write(\"File 2 For Data Scrapping Created Successfully\")"
   ]
  },
  {
   "cell_type": "markdown",
   "id": "6597803c",
   "metadata": {},
   "source": [
    "# This was the first way to export data without using any library\n",
    "## The second way to export data is by the use of pandas library\n",
    "### Install the pandas libraray using the keyword:\n",
    "#### pip install pandas"
   ]
  },
  {
   "cell_type": "code",
   "execution_count": 22,
   "id": "021ccd20",
   "metadata": {},
   "outputs": [
    {
     "name": "stdout",
     "output_type": "stream",
     "text": [
      "{'States': ['California', 'Texas', 'Florida', 'New York'], 'Population': [353434, 3434324234, 3424242, 324234]}\n"
     ]
    }
   ],
   "source": [
    "import pandas as pd\n",
    "\n",
    "# now pandas is imported as pd. Next time, we will used pd and can use the panadas library \n",
    "\n",
    "states=[\"California\",\"Texas\",\"Florida\",\"New York\"]\n",
    "\n",
    "# These are the four states in a list\n",
    "\n",
    "population=[353434,3434324234,3424242,324234] \n",
    "\n",
    "# this is the data related to the states in another dictionary \n",
    "\n",
    "# Now we are going to store the both states and their data in the form of dictionaries using the pandas\n",
    "\n",
    "dict_states={'States':states,'Population':population}\n",
    "print(dict_states)\n",
    "\n",
    "# now we are going to create dataframe"
   ]
  },
  {
   "cell_type": "code",
   "execution_count": 33,
   "id": "41b94a4a",
   "metadata": {},
   "outputs": [],
   "source": [
    "df_states=pd.DataFrame.from_dict(dict_states) \n",
    "\n",
    "#This will create a data frame using the dictionary of dict_states\n",
    "\n",
    "#Then we are storing the dataframe in the df_states variable\n",
    "\n",
    "#You can see the states data frame by printing the df_states variable\n",
    "\n",
    "df_states\n",
    "\n",
    "#Now we are going to export this dataframe, which is very simple\n",
    "\n",
    "df_states.to_csv('states.csv')\n",
    "\n",
    "#write the variable name in which the data frame is stored and write .to_csv('filename.csv') to create a file with 'filename' with all the data stored in it\n",
    "\n",
    "#if you dont want the index then simply write index=False\n",
    "\n",
    "df_states.to_csv('states.csv',index=False)\n",
    "\n",
    "#This was all about exporting data"
   ]
  },
  {
   "cell_type": "markdown",
   "id": "2e10fe46",
   "metadata": {},
   "source": [
    "# Handling Exception Error"
   ]
  },
  {
   "cell_type": "code",
   "execution_count": 35,
   "id": "fc48ba0c",
   "metadata": {},
   "outputs": [
    {
     "name": "stdout",
     "output_type": "stream",
     "text": [
      "1.0\n",
      "2.0\n",
      "2.5\n"
     ]
    },
    {
     "ename": "TypeError",
     "evalue": "unsupported operand type(s) for /: 'str' and 'int'",
     "output_type": "error",
     "traceback": [
      "\u001b[0;31m---------------------------------------------------------------------------\u001b[0m",
      "\u001b[0;31mTypeError\u001b[0m                                 Traceback (most recent call last)",
      "Cell \u001b[0;32mIn[35], line 8\u001b[0m\n\u001b[1;32m      5\u001b[0m new_list\u001b[38;5;241m=\u001b[39m[\u001b[38;5;241m2\u001b[39m,\u001b[38;5;241m4\u001b[39m,\u001b[38;5;241m5\u001b[39m,\u001b[38;5;124m'\u001b[39m\u001b[38;5;124mCalifornia\u001b[39m\u001b[38;5;124m'\u001b[39m]\n\u001b[1;32m      7\u001b[0m \u001b[38;5;28;01mfor\u001b[39;00m element \u001b[38;5;129;01min\u001b[39;00m new_list:\n\u001b[0;32m----> 8\u001b[0m     \u001b[38;5;28mprint\u001b[39m(element\u001b[38;5;241m/\u001b[39m\u001b[38;5;241m2\u001b[39m)\n",
      "\u001b[0;31mTypeError\u001b[0m: unsupported operand type(s) for /: 'str' and 'int'"
     ]
    }
   ],
   "source": [
    "#Handling exception error is very necessary in web scrapping \n",
    "\n",
    "#We use try and except for this purpose\n",
    "\n",
    "new_list=[2,4,5,'California']\n",
    "\n",
    "for element in new_list:\n",
    "    print(element/2)\n",
    "    \n",
    "# This will throw error because we cannot divide California string by 2 \n",
    "\n",
    "# This type of error occur during web scrapping. Which will lead the whole scrapping code to collapse\n",
    "\n",
    "# In order to avoid it we make use of try and except statements"
   ]
  },
  {
   "cell_type": "code",
   "execution_count": 36,
   "id": "c7754ca7",
   "metadata": {},
   "outputs": [
    {
     "name": "stdout",
     "output_type": "stream",
     "text": [
      "1.0\n",
      "2.0\n",
      "2.5\n",
      "The element is not a number!\n"
     ]
    }
   ],
   "source": [
    "new_list=[2,4,5,'California']\n",
    "\n",
    "for element in new_list:\n",
    "    try:\n",
    "        print(element/2)\n",
    "    except:\n",
    "        print(\"The element is not a number!\")\n",
    "        "
   ]
  },
  {
   "cell_type": "code",
   "execution_count": 38,
   "id": "323abfd5",
   "metadata": {},
   "outputs": [
    {
     "name": "stdout",
     "output_type": "stream",
     "text": [
      "1.0\n",
      "4.5\n",
      "8.0\n",
      "10.0\n",
      "Item is not a number\n",
      "Item is not a number\n",
      "Item is not a number\n"
     ]
    }
   ],
   "source": [
    "fatest_list=[2,9,16,20,'boy','john','aeliya']\n",
    "for item in fatest_list:\n",
    "    try:\n",
    "        print(item/2)\n",
    "    except:\n",
    "        print(\"Item is not a number\")\n",
    "    "
   ]
  },
  {
   "cell_type": "markdown",
   "id": "d9f13cc0",
   "metadata": {},
   "source": [
    "# Scrapping To Multiple Pages require while loop except scrapy"
   ]
  },
  {
   "cell_type": "code",
   "execution_count": 3,
   "id": "077ddcbe",
   "metadata": {},
   "outputs": [
    {
     "name": "stdout",
     "output_type": "stream",
     "text": [
      "4\n",
      "3\n",
      "While loop ended | Message\n"
     ]
    }
   ],
   "source": [
    "#while-Break\n",
    "\n",
    "n=4\n",
    "while n>0:\n",
    "    print(n)\n",
    "    n=n-1\n",
    "    if n==2:\n",
    "        break\n",
    "    \n",
    "print(\"While loop ended | Message\")"
   ]
  },
  {
   "cell_type": "code",
   "execution_count": null,
   "id": "9560d904",
   "metadata": {},
   "outputs": [],
   "source": [
    "\n"
   ]
  }
 ],
 "metadata": {
  "kernelspec": {
   "display_name": "Python 3 (ipykernel)",
   "language": "python",
   "name": "python3"
  },
  "language_info": {
   "codemirror_mode": {
    "name": "ipython",
    "version": 3
   },
   "file_extension": ".py",
   "mimetype": "text/x-python",
   "name": "python",
   "nbconvert_exporter": "python",
   "pygments_lexer": "ipython3",
   "version": "3.11.4"
  }
 },
 "nbformat": 4,
 "nbformat_minor": 5
}
