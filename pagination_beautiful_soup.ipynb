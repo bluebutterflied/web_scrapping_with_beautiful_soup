{
 "cells": [
  {
   "cell_type": "code",
   "execution_count": null,
   "id": "c919dd6f",
   "metadata": {},
   "outputs": [],
   "source": [
    "from bs4 import BeautifulSoup\n",
    "import requests\n",
    "\n",
    "root='https://subslikescript.com'\n",
    "website=f'{root}/movies_letter-X'\n",
    "result=requests.get(website)\n",
    "content=result.text\n",
    "soup=BeautifulSoup(content,'lxml')\n",
    "\n",
    "#Locating the box that contains pagination bar\n",
    "\n",
    "box=soup.find('article',class_='main-article')\n",
    "pagination=soup.find('ul',class_='pagination')\n",
    "# print(pagination)\n",
    "pages=pagination.find_all('li',class_='page-item')\n",
    "last_page=pages[-2].text\n",
    "# print(box.prettify())\n",
    "\n",
    "for page in range(1,int(last_page)+1):\n",
    "    result=requests.get(f'{website}?page={page}')\n",
    "    content=result.text\n",
    "    soup=BeautifulSoup(content,'lxml')\n",
    "    \n",
    "    box=soup.find('article',class_='main-article')\n",
    "    \n",
    "    links=[]\n",
    "    for link in box.find_all('a',href=True):\n",
    "        links.append(link['href'])\n",
    "#     for link in box.find_all('a', href=True):  # find_all returns a list\n",
    "#         links.append(link['href'])\n",
    "    for link in links:\n",
    "        try:  # \"try the code below. if something goes wrong, go to the \"except\" block\"\n",
    "            result = requests.get(f'{root}/{link}')  # structure --> https://subslikescript.com/movie/X-Men_2-290334\n",
    "            content = result.text\n",
    "            soup = BeautifulSoup(content, 'lxml')\n",
    "\n",
    "            box = soup.find('article', class_='main-article')\n",
    "            title = box.find('h1').get_text()\n",
    "            transcript = box.find('div', class_='full-script').get_text(strip=True, separator=' ')\n",
    "            \n",
    "            with open(f'{title}.txt', 'w') as file:\n",
    "                file.write(transcript)\n",
    "        except:\n",
    "            print('------ Link not working -------')\n",
    "            print(link)\n",
    "\n",
    "\n"
   ]
  },
  {
   "cell_type": "code",
   "execution_count": null,
   "id": "b7e3b4a9",
   "metadata": {},
   "outputs": [],
   "source": []
  }
 ],
 "metadata": {
  "kernelspec": {
   "display_name": "Python 3 (ipykernel)",
   "language": "python",
   "name": "python3"
  },
  "language_info": {
   "codemirror_mode": {
    "name": "ipython",
    "version": 3
   },
   "file_extension": ".py",
   "mimetype": "text/x-python",
   "name": "python",
   "nbconvert_exporter": "python",
   "pygments_lexer": "ipython3",
   "version": "3.11.4"
  }
 },
 "nbformat": 4,
 "nbformat_minor": 5
}
