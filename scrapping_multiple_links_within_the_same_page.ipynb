{
 "cells": [
  {
   "cell_type": "code",
   "execution_count": 16,
   "id": "1a7b7798",
   "metadata": {},
   "outputs": [],
   "source": [
    "from bs4 import BeautifulSoup\n",
    "import requests\n",
    "from time import sleep\n",
    "root='https://subslikescript.com'\n",
    "website=f'{root}/movies'\n",
    "result=requests.get(website)\n",
    "content=result.text\n",
    "\n",
    "soup=BeautifulSoup(content,'lxml')\n",
    "box=soup.find('article',class_='main-article')\n",
    "\n",
    "# print(box.prettify())\n",
    "links=[]\n",
    "box.find_all('a',href=True)\n",
    "for link in box.find_all('a',href=True):\n",
    "    links.append(link['href'])\n",
    "# sleep(5)\n",
    "for link in links:\n",
    "    result=requests.get(f'{root}/{link}')\n",
    "    content=result.text\n",
    "    soup=BeautifulSoup(content,'lxml')\n",
    "    box=soup.find('article',class_='main-article')\n",
    "    title=box.find('h1').get_text()\n",
    "    description=box.find('div',class_='full-script').get_text()\n",
    "    with open(f'{title}.txt','w') as file:\n",
    "        file.write(description)"
   ]
  },
  {
   "cell_type": "code",
   "execution_count": null,
   "id": "77883c33",
   "metadata": {},
   "outputs": [],
   "source": []
  }
 ],
 "metadata": {
  "kernelspec": {
   "display_name": "Python 3 (ipykernel)",
   "language": "python",
   "name": "python3"
  },
  "language_info": {
   "codemirror_mode": {
    "name": "ipython",
    "version": 3
   },
   "file_extension": ".py",
   "mimetype": "text/x-python",
   "name": "python",
   "nbconvert_exporter": "python",
   "pygments_lexer": "ipython3",
   "version": "3.11.4"
  }
 },
 "nbformat": 4,
 "nbformat_minor": 5
}
