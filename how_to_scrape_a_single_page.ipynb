{
 "cells": [
  {
   "cell_type": "code",
   "execution_count": 8,
   "id": "f808a9f0",
   "metadata": {},
   "outputs": [],
   "source": [
    "from bs4 import BeautifulSoup\n",
    "import requests\n",
    "\n",
    "website='https://subslikescript.com/movie/Titanic-120338'\n",
    "result=requests.get(website)\n",
    "content=result.text\n",
    "soup=BeautifulSoup(content,'lxml')\n",
    "\n",
    "box=soup.find('article',class_='main-article')\n",
    "\n",
    "title=box.find('h1').get_text()\n",
    "\n",
    "description=box.find('p',class_='plot').get_text()\n",
    "\n",
    "# description\n",
    "\n",
    "\n",
    "transcript=box.find('div',class_='full-script').get_text(strip=True,separator= ' ')\n",
    "\n",
    "with open(f'{title}.txt','w') as file:\n",
    "    file.write(transcript)"
   ]
  },
  {
   "cell_type": "code",
   "execution_count": null,
   "id": "3f4af4e6",
   "metadata": {},
   "outputs": [],
   "source": []
  }
 ],
 "metadata": {
  "kernelspec": {
   "display_name": "Python 3 (ipykernel)",
   "language": "python",
   "name": "python3"
  },
  "language_info": {
   "codemirror_mode": {
    "name": "ipython",
    "version": 3
   },
   "file_extension": ".py",
   "mimetype": "text/x-python",
   "name": "python",
   "nbconvert_exporter": "python",
   "pygments_lexer": "ipython3",
   "version": "3.11.4"
  }
 },
 "nbformat": 4,
 "nbformat_minor": 5
}
